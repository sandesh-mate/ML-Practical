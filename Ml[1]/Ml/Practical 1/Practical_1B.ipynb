{
 "cells": [
  {
   "cell_type": "code",
   "execution_count": 2,
   "id": "a8629139-fc3e-44a1-8454-01372c03f5ef",
   "metadata": {},
   "outputs": [],
   "source": [
    "import numpy"
   ]
  },
  {
   "cell_type": "code",
   "execution_count": 4,
   "id": "6e4b2c44-2cad-48b4-900c-6e57b7b577b7",
   "metadata": {},
   "outputs": [],
   "source": [
    "import pandas as pd"
   ]
  },
  {
   "cell_type": "code",
   "execution_count": 6,
   "id": "025ae591-7f83-4797-b1b8-12961117f65c",
   "metadata": {},
   "outputs": [],
   "source": [
    "x=numpy.array([[1,2,3],[4,5,8],[1,7,9]])"
   ]
  },
  {
   "cell_type": "code",
   "execution_count": 8,
   "id": "aa3635a4-2a11-4be8-843e-c54d4e37d557",
   "metadata": {},
   "outputs": [
    {
     "name": "stdout",
     "output_type": "stream",
     "text": [
      "[[1 2 3]\n",
      " [4 5 8]\n",
      " [1 7 9]]\n"
     ]
    }
   ],
   "source": [
    "print(x)"
   ]
  },
  {
   "cell_type": "code",
   "execution_count": 10,
   "id": "3f73d09e-6d62-4dec-9756-1b205731412b",
   "metadata": {},
   "outputs": [
    {
     "name": "stdout",
     "output_type": "stream",
     "text": [
      "2\n",
      "(3, 3)\n",
      "9\n"
     ]
    }
   ],
   "source": [
    "print(x.ndim)\n",
    "print(x.shape)\n",
    "print(x.size)"
   ]
  },
  {
   "cell_type": "code",
   "execution_count": 12,
   "id": "2530a45c-934d-4cbe-857a-db6b37b60188",
   "metadata": {},
   "outputs": [],
   "source": [
    "import numpy as np"
   ]
  },
  {
   "cell_type": "code",
   "execution_count": 18,
   "id": "79dd64f7-cf12-4bc7-be2d-aa8a2fa0d0f8",
   "metadata": {},
   "outputs": [],
   "source": [
    "a=[1,2,3,4,5]"
   ]
  },
  {
   "cell_type": "code",
   "execution_count": 20,
   "id": "5f5b08f0-c1fa-493d-a3c3-6666a1f805db",
   "metadata": {},
   "outputs": [
    {
     "data": {
      "text/plain": [
       "list"
      ]
     },
     "execution_count": 20,
     "metadata": {},
     "output_type": "execute_result"
    }
   ],
   "source": [
    "type(a)"
   ]
  },
  {
   "cell_type": "code",
   "execution_count": 22,
   "id": "3507df37-9541-4c4a-ba0e-95c77ef5bd95",
   "metadata": {},
   "outputs": [
    {
     "name": "stdout",
     "output_type": "stream",
     "text": [
      "3\n"
     ]
    }
   ],
   "source": [
    "import statistics\n",
    "b=statistics.mean(a)\n",
    "print(b)"
   ]
  },
  {
   "cell_type": "code",
   "execution_count": 24,
   "id": "2747e339-6f35-421b-8eb6-3a80667015d4",
   "metadata": {},
   "outputs": [
    {
     "name": "stdout",
     "output_type": "stream",
     "text": [
      "3\n"
     ]
    }
   ],
   "source": [
    "c=statistics.median(a)\n",
    "print(c)"
   ]
  },
  {
   "cell_type": "code",
   "execution_count": 26,
   "id": "d74d94f4-8c21-4261-80de-16c7709ada8e",
   "metadata": {},
   "outputs": [],
   "source": [
    "d=[1,2,3,4,2,18]"
   ]
  },
  {
   "cell_type": "code",
   "execution_count": 28,
   "id": "463400c8-209e-4d03-8403-010253592fec",
   "metadata": {},
   "outputs": [
    {
     "data": {
      "text/plain": [
       "list"
      ]
     },
     "execution_count": 28,
     "metadata": {},
     "output_type": "execute_result"
    }
   ],
   "source": [
    "type(d)"
   ]
  },
  {
   "cell_type": "code",
   "execution_count": 30,
   "id": "9431cb48-ee52-4d66-80a1-9d5dcffd8486",
   "metadata": {},
   "outputs": [
    {
     "name": "stdout",
     "output_type": "stream",
     "text": [
      "2\n"
     ]
    }
   ],
   "source": [
    "e=statistics.mode(d)\n",
    "print(e)"
   ]
  },
  {
   "cell_type": "code",
   "execution_count": 34,
   "id": "04d59812-1ec2-4091-8e14-0d74f3e43626",
   "metadata": {},
   "outputs": [],
   "source": [
    "f=np.array([1,2,3,4,5])"
   ]
  },
  {
   "cell_type": "code",
   "execution_count": 36,
   "id": "b6fca099-91b6-4526-8124-6b255379f9a6",
   "metadata": {},
   "outputs": [],
   "source": [
    "fn=f.sum()"
   ]
  },
  {
   "cell_type": "code",
   "execution_count": 38,
   "id": "2b10977f-d1e0-4f1d-a770-dc854adf7696",
   "metadata": {},
   "outputs": [
    {
     "name": "stdout",
     "output_type": "stream",
     "text": [
      "15\n"
     ]
    }
   ],
   "source": [
    "print(fn)"
   ]
  },
  {
   "cell_type": "code",
   "execution_count": 40,
   "id": "c14a4fe8-cecf-4575-bdc2-15e036906b6b",
   "metadata": {},
   "outputs": [
    {
     "name": "stdout",
     "output_type": "stream",
     "text": [
      "['Apple' 'Banana' 'Cherry' 'Guava']\n"
     ]
    }
   ],
   "source": [
    "cv=np.array([\"Guava\",\"Banana\",\"Cherry\",\"Apple\"])\n",
    "print(np.sort(cv))"
   ]
  }
 ],
 "metadata": {
  "kernelspec": {
   "display_name": "Python [conda env:base] *",
   "language": "python",
   "name": "conda-base-py"
  },
  "language_info": {
   "codemirror_mode": {
    "name": "ipython",
    "version": 3
   },
   "file_extension": ".py",
   "mimetype": "text/x-python",
   "name": "python",
   "nbconvert_exporter": "python",
   "pygments_lexer": "ipython3",
   "version": "3.12.7"
  }
 },
 "nbformat": 4,
 "nbformat_minor": 5
}
