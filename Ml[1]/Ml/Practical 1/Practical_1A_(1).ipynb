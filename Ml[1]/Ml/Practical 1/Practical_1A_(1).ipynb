{
  "cells": [
    {
      "cell_type": "code",
      "execution_count": 1,
      "id": "ef02a5c2-a423-4c70-ae44-02bb4a18edf9",
      "metadata": {
        "id": "ef02a5c2-a423-4c70-ae44-02bb4a18edf9"
      },
      "outputs": [],
      "source": [
        "import numpy"
      ]
    },
    {
      "cell_type": "code",
      "execution_count": 2,
      "id": "d93bdc4a-d741-4bd1-bcdc-94ee9045fe4d",
      "metadata": {
        "id": "d93bdc4a-d741-4bd1-bcdc-94ee9045fe4d"
      },
      "outputs": [],
      "source": [
        "import pandas"
      ]
    },
    {
      "cell_type": "code",
      "execution_count": 3,
      "id": "4362554f-1c39-4056-8eb4-b8530d007bfd",
      "metadata": {
        "id": "4362554f-1c39-4056-8eb4-b8530d007bfd"
      },
      "outputs": [],
      "source": [
        "import pandas as pd"
      ]
    },
    {
      "cell_type": "code",
      "execution_count": 4,
      "id": "9730aade-d2a9-4eaa-839a-c850cbc96a64",
      "metadata": {
        "colab": {
          "base_uri": "https://localhost:8080/"
        },
        "id": "9730aade-d2a9-4eaa-839a-c850cbc96a64",
        "outputId": "fba01cdb-ff1d-4ec6-bf1a-d558b11712f3"
      },
      "outputs": [
        {
          "output_type": "stream",
          "name": "stdout",
          "text": [
            "Vaishnavi\n"
          ]
        }
      ],
      "source": [
        "print(\"Vaishnavi\")"
      ]
    },
    {
      "cell_type": "code",
      "execution_count": 5,
      "id": "ed5204eb-02e0-4487-978d-9066deb3f68c",
      "metadata": {
        "id": "ed5204eb-02e0-4487-978d-9066deb3f68c",
        "colab": {
          "base_uri": "https://localhost:8080/"
        },
        "outputId": "6dc3993a-ac8a-47c8-9b66-42be2d928183"
      },
      "outputs": [
        {
          "output_type": "stream",
          "name": "stdout",
          "text": [
            "11\n"
          ]
        }
      ],
      "source": [
        "import math\n",
        "print(math.floor(11.5))"
      ]
    },
    {
      "cell_type": "code",
      "execution_count": 6,
      "id": "2205f658-be63-4230-9f02-1499c2b5028c",
      "metadata": {
        "id": "2205f658-be63-4230-9f02-1499c2b5028c",
        "outputId": "77d8db66-ed4d-4c8c-ac77-fc7e120a6899",
        "colab": {
          "base_uri": "https://localhost:8080/"
        }
      },
      "outputs": [
        {
          "output_type": "stream",
          "name": "stdout",
          "text": [
            "3\n",
            "-5\n",
            "10\n",
            "26\n"
          ]
        }
      ],
      "source": [
        "print(math.ceil(2.4))\n",
        "print(math.ceil(-5.3))\n",
        "print(math.ceil(10.0))\n",
        "print(math.ceil(25.6))"
      ]
    },
    {
      "cell_type": "code",
      "execution_count": 7,
      "id": "462b3d0e-e992-4826-b90f-bd2a89851447",
      "metadata": {
        "jupyter": {
          "source_hidden": true
        },
        "id": "462b3d0e-e992-4826-b90f-bd2a89851447",
        "outputId": "f02e3fd0-5b53-405e-a2b5-e753278e5be8",
        "colab": {
          "base_uri": "https://localhost:8080/"
        }
      },
      "outputs": [
        {
          "output_type": "stream",
          "name": "stdout",
          "text": [
            "3.1622776601683795\n",
            "10.0\n",
            "8.246211251235321\n",
            "16.0\n"
          ]
        }
      ],
      "source": [
        "print(math.sqrt(10))\n",
        "print(math.sqrt(100))\n",
        "print(math.sqrt(68))\n",
        "print(math.sqrt(256))"
      ]
    },
    {
      "cell_type": "code",
      "execution_count": 8,
      "id": "caa934aa-a618-40d6-b546-a8c06e051551",
      "metadata": {
        "id": "caa934aa-a618-40d6-b546-a8c06e051551",
        "outputId": "75a7552e-e5de-433b-9475-509694edc89d",
        "colab": {
          "base_uri": "https://localhost:8080/"
        }
      },
      "outputs": [
        {
          "output_type": "stream",
          "name": "stdout",
          "text": [
            "1\n"
          ]
        }
      ],
      "source": [
        "print(math.gcd(25,56))"
      ]
    },
    {
      "cell_type": "code",
      "execution_count": 9,
      "id": "ca36c6d3-272b-4a7f-a362-28e8491d1e1b",
      "metadata": {
        "id": "ca36c6d3-272b-4a7f-a362-28e8491d1e1b",
        "outputId": "306ccc04-a9b3-4899-ee54-73c8e46e5ea9",
        "colab": {
          "base_uri": "https://localhost:8080/"
        }
      },
      "outputs": [
        {
          "output_type": "stream",
          "name": "stdout",
          "text": [
            "10\n"
          ]
        }
      ],
      "source": [
        "print(math.gcd(10,20))"
      ]
    },
    {
      "cell_type": "code",
      "execution_count": 10,
      "id": "1601cfd2-9263-43ef-94f3-0eca625c29eb",
      "metadata": {
        "id": "1601cfd2-9263-43ef-94f3-0eca625c29eb",
        "outputId": "64c1e3e1-0801-4924-df0f-94f0faa20c3f",
        "colab": {
          "base_uri": "https://localhost:8080/"
        }
      },
      "outputs": [
        {
          "output_type": "stream",
          "name": "stdout",
          "text": [
            "720\n"
          ]
        }
      ],
      "source": [
        "print(math.factorial(6))"
      ]
    },
    {
      "cell_type": "code",
      "execution_count": 11,
      "id": "65f561f8-30c1-474e-a3fa-a08858fae828",
      "metadata": {
        "id": "65f561f8-30c1-474e-a3fa-a08858fae828",
        "outputId": "149ae659-1f8c-4d7c-c72f-f850ab4f6a77",
        "colab": {
          "base_uri": "https://localhost:8080/"
        }
      },
      "outputs": [
        {
          "output_type": "stream",
          "name": "stdout",
          "text": [
            "10\n",
            "16.0\n",
            "8.246211251235321\n"
          ]
        }
      ],
      "source": [
        "print(math.isqrt(100))\n",
        "print(math.sqrt(256))\n",
        "print(math.sqrt(68))"
      ]
    }
  ],
  "metadata": {
    "kernelspec": {
      "display_name": "Python [conda env:base] *",
      "language": "python",
      "name": "conda-base-py"
    },
    "language_info": {
      "codemirror_mode": {
        "name": "ipython",
        "version": 3
      },
      "file_extension": ".py",
      "mimetype": "text/x-python",
      "name": "python",
      "nbconvert_exporter": "python",
      "pygments_lexer": "ipython3",
      "version": "3.12.7"
    },
    "colab": {
      "provenance": []
    }
  },
  "nbformat": 4,
  "nbformat_minor": 5
}