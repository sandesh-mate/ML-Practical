{
  "cells": [
    {
      "cell_type": "code",
      "execution_count": null,
      "metadata": {
        "id": "zl1CYLrGIncM",
        "outputId": "9283220e-f1b6-43ae-b6d3-2f34ea053705"
      },
      "outputs": [
        {
          "name": "stdout",
          "output_type": "stream",
          "text": [
            "    age  Gender  Family  diet  Lifestyle  cholestrol  heartdisease\n",
            "0     0       0       1     1          3           0             1\n",
            "1     0       1       1     1          3           0             1\n",
            "2     1       0       0     0          2           1             1\n",
            "3     4       0       1     1          3           2             0\n",
            "4     3       1       1     0          0           2             0\n",
            "5     2       0       1     1          1           0             1\n",
            "6     4       0       1     0          2           0             1\n",
            "7     0       0       1     1          3           0             1\n",
            "8     3       1       1     0          0           2             0\n",
            "9     1       1       0     0          0           2             1\n",
            "10    4       1       0     1          2           0             1\n",
            "11    4       0       1     1          3           2             0\n",
            "12    2       1       0     0          0           0             0\n",
            "13    2       0       1     1          1           0             1\n",
            "14    3       1       1     0          0           1             0\n",
            "15    0       0       1     0          0           2             1\n",
            "16    1       1       0     1          2           1             1\n",
            "17    3       1       1     1          0           1             0\n",
            "18    4       0       1     1          3           2             0\n"
          ]
        }
      ],
      "source": [
        "import pandas as pd\n",
        "data=pd.read_csv(\"C:/Users/ASUS/Downloads/heartdisease.csv\")\n",
        "heart_disease=pd.DataFrame(data)\n",
        "print(heart_disease)"
      ]
    },
    {
      "cell_type": "code",
      "execution_count": null,
      "metadata": {
        "id": "h_8S5bpVIncO",
        "outputId": "2f4d5ae4-5c2d-4c37-b329-71625b7b910e"
      },
      "outputs": [
        {
          "name": "stdout",
          "output_type": "stream",
          "text": [
            "Requirement already satisfied: pgmpy in c:\\programdata\\anaconda3\\lib\\site-packages (1.0.0)\n",
            "Requirement already satisfied: networkx in c:\\programdata\\anaconda3\\lib\\site-packages (from pgmpy) (3.1)\n",
            "Requirement already satisfied: numpy in c:\\programdata\\anaconda3\\lib\\site-packages (from pgmpy) (1.24.3)\n",
            "Requirement already satisfied: scipy in c:\\programdata\\anaconda3\\lib\\site-packages (from pgmpy) (1.11.1)\n",
            "Requirement already satisfied: scikit-learn in c:\\programdata\\anaconda3\\lib\\site-packages (from pgmpy) (1.3.0)\n",
            "Requirement already satisfied: pandas in c:\\programdata\\anaconda3\\lib\\site-packages (from pgmpy) (2.0.3)\n",
            "Requirement already satisfied: torch in c:\\programdata\\anaconda3\\lib\\site-packages (from pgmpy) (2.6.0)\n",
            "Requirement already satisfied: statsmodels in c:\\programdata\\anaconda3\\lib\\site-packages (from pgmpy) (0.14.0)\n",
            "Requirement already satisfied: tqdm in c:\\programdata\\anaconda3\\lib\\site-packages (from pgmpy) (4.65.0)\n",
            "Requirement already satisfied: joblib in c:\\programdata\\anaconda3\\lib\\site-packages (from pgmpy) (1.2.0)\n",
            "Requirement already satisfied: opt-einsum in c:\\programdata\\anaconda3\\lib\\site-packages (from pgmpy) (3.4.0)\n",
            "Requirement already satisfied: pyro-ppl in c:\\programdata\\anaconda3\\lib\\site-packages (from pgmpy) (1.9.1)\n",
            "Requirement already satisfied: python-dateutil>=2.8.2 in c:\\programdata\\anaconda3\\lib\\site-packages (from pandas->pgmpy) (2.8.2)\n",
            "Requirement already satisfied: pytz>=2020.1 in c:\\programdata\\anaconda3\\lib\\site-packages (from pandas->pgmpy) (2023.3.post1)\n",
            "Requirement already satisfied: tzdata>=2022.1 in c:\\programdata\\anaconda3\\lib\\site-packages (from pandas->pgmpy) (2023.3)\n",
            "Requirement already satisfied: pyro-api>=0.1.1 in c:\\programdata\\anaconda3\\lib\\site-packages (from pyro-ppl->pgmpy) (0.1.2)\n",
            "Requirement already satisfied: filelock in c:\\programdata\\anaconda3\\lib\\site-packages (from torch->pgmpy) (3.9.0)\n",
            "Requirement already satisfied: typing-extensions>=4.10.0 in c:\\programdata\\anaconda3\\lib\\site-packages (from torch->pgmpy) (4.13.0)\n",
            "Requirement already satisfied: jinja2 in c:\\programdata\\anaconda3\\lib\\site-packages (from torch->pgmpy) (3.1.2)\n",
            "Requirement already satisfied: fsspec in c:\\programdata\\anaconda3\\lib\\site-packages (from torch->pgmpy) (2023.4.0)\n",
            "Requirement already satisfied: sympy==1.13.1 in c:\\programdata\\anaconda3\\lib\\site-packages (from torch->pgmpy) (1.13.1)\n",
            "Requirement already satisfied: mpmath<1.4,>=1.1.0 in c:\\programdata\\anaconda3\\lib\\site-packages (from sympy==1.13.1->torch->pgmpy) (1.3.0)\n",
            "Requirement already satisfied: colorama in c:\\programdata\\anaconda3\\lib\\site-packages (from tqdm->pgmpy) (0.4.6)\n",
            "Requirement already satisfied: threadpoolctl>=2.0.0 in c:\\programdata\\anaconda3\\lib\\site-packages (from scikit-learn->pgmpy) (2.2.0)\n",
            "Requirement already satisfied: patsy>=0.5.2 in c:\\programdata\\anaconda3\\lib\\site-packages (from statsmodels->pgmpy) (0.5.3)\n",
            "Requirement already satisfied: packaging>=21.3 in c:\\programdata\\anaconda3\\lib\\site-packages (from statsmodels->pgmpy) (23.1)\n",
            "Requirement already satisfied: six in c:\\programdata\\anaconda3\\lib\\site-packages (from patsy>=0.5.2->statsmodels->pgmpy) (1.16.0)\n",
            "Requirement already satisfied: MarkupSafe>=2.0 in c:\\programdata\\anaconda3\\lib\\site-packages (from jinja2->torch->pgmpy) (2.1.1)\n"
          ]
        }
      ],
      "source": [
        "!pip install pgmpy"
      ]
    },
    {
      "cell_type": "code",
      "execution_count": null,
      "metadata": {
        "id": "VOstofoKIncP",
        "outputId": "c3e38262-bb97-4d66-811a-62ab26d44890"
      },
      "outputs": [
        {
          "name": "stdout",
          "output_type": "stream",
          "text": [
            "1.0.0\n"
          ]
        }
      ],
      "source": [
        "import pgmpy\n",
        "print(pgmpy.__version__)"
      ]
    },
    {
      "cell_type": "code",
      "execution_count": null,
      "metadata": {
        "id": "d0Ai3mVqIncQ",
        "outputId": "69648b7d-b60a-4b2d-a7d5-a56e70c26e77"
      },
      "outputs": [
        {
          "name": "stderr",
          "output_type": "stream",
          "text": [
            "INFO:pgmpy: Datatype (N=numerical, C=Categorical Unordered, O=Categorical Ordered) inferred from data: \n",
            " {'age': 'N', 'Gender': 'N', 'Family': 'N', 'diet': 'N', 'Lifestyle': 'N', 'cholestrol': 'N', 'heartdisease': 'N'}\n"
          ]
        }
      ],
      "source": [
        "from pgmpy.models import DiscreteBayesianNetwork\n",
        "\n",
        "model=DiscreteBayesianNetwork([\n",
        "('age','Lifestyle'),\n",
        "('Gender','Lifestyle'),\n",
        "('Family','heartdisease'),\n",
        "('diet','cholestrol'),\n",
        "('Lifestyle','diet'),\n",
        "('cholestrol','heartdisease'),\n",
        "('diet','cholestrol')\n",
        "])\n",
        "\n",
        "from pgmpy.estimators import MaximumLikelihoodEstimator\n",
        "model.fit(heart_disease, estimator=MaximumLikelihoodEstimator)\n",
        "\n",
        "from pgmpy.inference import VariableElimination\n",
        "HeartDisease_infer = VariableElimination(model)"
      ]
    },
    {
      "cell_type": "code",
      "execution_count": null,
      "metadata": {
        "id": "O4ro58H_IncQ",
        "outputId": "2b7f1263-9948-49ed-f2f8-741aa65a8ca5"
      },
      "outputs": [
        {
          "name": "stdout",
          "output_type": "stream",
          "text": [
            "For age Enter { SuperSeniorCitizen:0, SeniorCitizen:1, MiddleAged:2, Youth:3, Teen:4 }\n",
            "For Gender Enter { Male:0, Female:1 }\n",
            "For Family History Enter { yes:1, No:0 }\n",
            "For diet Enter { High:0, Medium:1 }\n",
            "For lifeStyle Enter { Athlete:0, Active:1, Moderate:2, Sedentary:3 }\n",
            "For cholesterol Enter { High:0, BorderLine:1, Normal:2 }\n",
            "Enter age :1\n",
            "Enter Gender :1\n",
            "Enter Family history :1\n",
            "Enter diet :0\n",
            "Enter Lifestyle :1\n",
            "Enter cholestrol :0\n",
            "+-----------------+---------------------+\n",
            "| heartdisease    |   phi(heartdisease) |\n",
            "+=================+=====================+\n",
            "| heartdisease(0) |              0.0000 |\n",
            "+-----------------+---------------------+\n",
            "| heartdisease(1) |              1.0000 |\n",
            "+-----------------+---------------------+ ['heartdisease']\n"
          ]
        }
      ],
      "source": [
        "print('For age Enter { SuperSeniorCitizen:0, SeniorCitizen:1, MiddleAged:2, Youth:3, Teen:4 }')\n",
        "print('For Gender Enter { Male:0, Female:1 }')\n",
        "print('For Family History Enter { yes:1, No:0 }')\n",
        "print('For diet Enter { High:0, Medium:1 }')\n",
        "print('For lifeStyle Enter { Athlete:0, Active:1, Moderate:2, Sedentary:3 }')\n",
        "print('For cholesterol Enter { High:0, BorderLine:1, Normal:2 }')\n",
        "\n",
        "q = HeartDisease_infer.query(variables=['heartdisease'], evidence={\n",
        "    'age':int(input('Enter age :')),\n",
        "    'Gender':int(input('Enter Gender :')),\n",
        "    'Family':int(input('Enter Family history :')),\n",
        "    'diet':int(input('Enter diet :')),\n",
        "    'Lifestyle':int(input('Enter Lifestyle :')),\n",
        "    'cholestrol':int(input('Enter cholestrol :'))\n",
        "    })\n",
        "\n",
        "print(q,['heartdisease'])"
      ]
    },
    {
      "cell_type": "code",
      "execution_count": null,
      "metadata": {
        "id": "WWMey_vWIncR"
      },
      "outputs": [],
      "source": []
    }
  ],
  "metadata": {
    "kernelspec": {
      "display_name": "Python 3 (ipykernel)",
      "language": "python",
      "name": "python3"
    },
    "language_info": {
      "codemirror_mode": {
        "name": "ipython",
        "version": 3
      },
      "file_extension": ".py",
      "mimetype": "text/x-python",
      "name": "python",
      "nbconvert_exporter": "python",
      "pygments_lexer": "ipython3",
      "version": "3.11.5"
    },
    "colab": {
      "provenance": []
    }
  },
  "nbformat": 4,
  "nbformat_minor": 0
}